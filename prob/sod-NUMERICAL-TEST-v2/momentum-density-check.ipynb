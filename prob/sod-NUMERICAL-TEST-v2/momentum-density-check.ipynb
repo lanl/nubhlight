{
 "cells": [
  {
   "cell_type": "code",
   "execution_count": 1,
   "id": "0bead1ff",
   "metadata": {},
   "outputs": [],
   "source": [
    "import h5py\n",
    "import matplotlib.pyplot as plt\n",
    "import numpy as np"
   ]
  },
  {
   "cell_type": "code",
   "execution_count": 16,
   "id": "b97c7683",
   "metadata": {},
   "outputs": [
    {
     "name": "stdout",
     "output_type": "stream",
     "text": [
      "Dataset: b1\n",
      "Dataset: b2\n",
      "Dataset: b3\n",
      "Dataset: rho\n",
      "Dataset: u1\n",
      "Dataset: u2\n",
      "Dataset: u3\n",
      "Dataset: uu\n",
      "Dataset: ye\n",
      "0.9946397895344126\n",
      "1.775990431475971e-05\n"
     ]
    }
   ],
   "source": [
    "# Open the HDF5 file\n",
    "with h5py.File('./dumps/prim.h5', 'r') as file:\n",
    "    for key in file.keys():\n",
    "        # Check if the key corresponds to a dataset\n",
    "        if isinstance(file[key], h5py.Dataset):\n",
    "            print(f\"Dataset: {key}\")\n",
    "        elif isinstance(file[key], h5py.Group):\n",
    "            print(f\"Group: {key}\")\n",
    "# Access the datasets or groups within the file    \n",
    "    rho = file['rho'][:]\n",
    "    u1 = file['u1'][:]\n",
    "    u2 = file['u2'][:]\n",
    "    u3 = file['u3'][:]\n",
    "    #print(rho.shape)\n",
    "\n",
    "    # Flatten the first three indices\n",
    "    flat_rho = rho.reshape(rho.shape[0] * rho.shape[1] * rho.shape[2])\n",
    "    flat_u1 = u1.reshape(u1.shape[0] * u1.shape[1] * u1.shape[2])\n",
    "    flat_u2 = u2.reshape(u2.shape[0] * u2.shape[1] * u2.shape[2])\n",
    "    flat_u3 = u3.reshape(u3.shape[0] * u3.shape[1] * u3.shape[2])\n",
    "\n",
    "    # Now 'flattened_data' is a 3D array with shape (32 * 32 * 32, 4, 4)\n",
    "    print(np.max(flat_rho))\n",
    "    print(flat_rho[0]*flat_u1[0])"
   ]
  },
  {
   "cell_type": "code",
   "execution_count": 17,
   "id": "b50afad2",
   "metadata": {},
   "outputs": [],
   "source": [
    "aftmomen_x = [0] * flat_rho.shape[0]\n",
    "aftmomen_y = [0] * flat_rho.shape[0]\n",
    "aftmomen_z = [0] * flat_rho.shape[0]\n",
    "\n",
    "for i in range(flat_rho.shape[0]):\n",
    "    aftmomen_x[i] = flat_rho[i] * flat_u1[i]\n",
    "    aftmomen_y[i] = flat_rho[i] * flat_u2[i]\n",
    "    aftmomen_z[i] = flat_rho[i] * flat_u3[i]"
   ]
  },
  {
   "cell_type": "code",
   "execution_count": 18,
   "id": "057608ad",
   "metadata": {},
   "outputs": [
    {
     "name": "stdout",
     "output_type": "stream",
     "text": [
      "Dataset: px\n",
      "Dataset: py\n",
      "Dataset: pz\n",
      "Dataset: rhodens\n",
      "Dataset: ux\n",
      "Dataset: uy\n",
      "Dataset: uz\n",
      "0.00026570808172279105\n",
      "1.775990431475971e-05\n",
      "0.9946397895344126\n",
      "0.0003192266886413547\n"
     ]
    }
   ],
   "source": [
    "# Open the HDF5 file\n",
    "with h5py.File('momendens.h5', 'r') as file:\n",
    "    for key in file.keys():\n",
    "        # Check if the key corresponds to a dataset\n",
    "        if isinstance(file[key], h5py.Dataset):\n",
    "            print(f\"Dataset: {key}\")\n",
    "        elif isinstance(file[key], h5py.Group):\n",
    "            print(f\"Group: {key}\")\n",
    "            # Access the datasets or groups within the file    \n",
    "    \n",
    "    px = file['px'][:]\n",
    "    py = file['py'][:]\n",
    "    pz = file['pz'][:]\n",
    "    \n",
    "    ux = file['ux'][:]\n",
    "    uy = file['uy'][:]\n",
    "    uz = file['uz'][:]\n",
    "    \n",
    "    rhodens = file['rhodens'][:]\n",
    "    \n",
    "rms= np.sqrt(np.mean(np.square(pz)))\n",
    "rms2= np.sqrt(np.mean(np.square(aftmomen_z)))\n",
    "    \n",
    "print(rms)\n",
    "\n",
    "print(px[0])\n",
    "print(np.max(rhodens))\n",
    "print(flat_rho[0])"
   ]
  },
  {
   "cell_type": "code",
   "execution_count": 22,
   "id": "6a713433",
   "metadata": {},
   "outputs": [
    {
     "data": {
      "image/png": "[encoded data removed]",
      "text/plain": [
       "<Figure size 640x480 with 1 Axes>"
      ]
     },
     "metadata": {},
     "output_type": "display_data"
    }
   ],
   "source": [
    "    i_values = []\n",
    "    differences = []\n",
    "    for i in range(32767):   \n",
    "        diff = abs(aftmomen_z[i]-pz[i])\n",
    "        #diff = abs(flat_rho[i])\n",
    "        differences.append(diff)\n",
    "        i_values.append(i)\n",
    "\n",
    "        \n",
    "plt.scatter(i_values,differences,s=1)\n",
    "plt.xlabel(\"flat index\")\n",
    "plt.ylabel(\"after rho in nubhlight unit\")\n",
    "#plt.legend()\n",
    "plt.grid(True)\n",
    "#plt.savefig(\"fluid-sanitycheck-\" + label + \".pdf\")\n",
    "plt.show()"
   ]
  },
  {
   "cell_type": "code",
   "execution_count": 70,
   "id": "437244be",
   "metadata": {},
   "outputs": [
    {
     "data": {
      "text/plain": [
       "11357801703.091352"
      ]
     },
     "execution_count": 70,
     "metadata": {},
     "output_type": "execute_result"
    }
   ],
   "source": [
    "1.8385846799889523e-08*6.17747e+17"
   ]
  },
  {
   "cell_type": "code",
   "execution_count": 12,
   "id": "3d41411b",
   "metadata": {},
   "outputs": [
    {
     "name": "stdout",
     "output_type": "stream",
     "text": [
      "Dataset: betax\n",
      "Dataset: betay\n",
      "Dataset: betaz\n",
      "Dataset: lapse\n",
      "Dataset: rho\n",
      "Dataset: u1\n",
      "Dataset: u2\n",
      "Dataset: u3\n",
      "Dataset: velx\n",
      "Dataset: vely\n",
      "Dataset: velz\n",
      "Dataset: xp\n",
      "Dataset: ye\n",
      "Dataset: yp\n",
      "Dataset: zp\n",
      "(32768,)\n",
      "1.8385846799889546e-08\n"
     ]
    }
   ],
   "source": [
    "# Open the HDF5 file\n",
    "with h5py.File('extprim.h5', 'r') as file:\n",
    "    for key in file.keys():\n",
    "        # Check if the key corresponds to a dataset\n",
    "        if isinstance(file[key], h5py.Dataset):\n",
    "            print(f\"Dataset: {key}\")\n",
    "        elif isinstance(file[key], h5py.Group):\n",
    "            print(f\"Group: {key}\")\n",
    "# Access the datasets or groups within the file    \n",
    "    rho = file['rho'][:]\n",
    "    print(rho.shape)\n",
    "    print(np.max(rho))"
   ]
  },
  {
   "cell_type": "code",
   "execution_count": null,
   "id": "d2747caa",
   "metadata": {},
   "outputs": [],
   "source": []
  }
 ],
 "metadata": {
  "kernelspec": {
   "display_name": "Python 3 (ipykernel)",
   "language": "python",
   "name": "python3"
  },
  "language_info": {
   "codemirror_mode": {
    "name": "ipython",
    "version": 3
   },
   "file_extension": ".py",
   "mimetype": "text/x-python",
   "name": "python",
   "nbconvert_exporter": "python",
   "pygments_lexer": "ipython3",
   "version": "3.11.5"
  }
 },
 "nbformat": 4,
 "nbformat_minor": 5
}
