{
 "cells": [
  {
   "cell_type": "code",
   "execution_count": 4,
   "id": "7c8bbf36",
   "metadata": {},
   "outputs": [
    {
     "name": "stdout",
     "output_type": "stream",
     "text": [
      "Dataset: Ye\n",
      "Group: dimensions\n",
      "Dataset: emis\n",
      "Dataset: lT\n",
      "Dataset: lnu\n",
      "Dataset: lrho\n",
      "Dataset: opac\n",
      "Group: units\n",
      "(40, 62, 58, 3, 61)\n"
     ]
    }
   ],
   "source": [
    "import h5py\n",
    "import numpy as np\n",
    "\n",
    "# Open the HDF5 file in read/write mode\n",
    "with h5py.File('opacity.SFHo.nohoro.juo.brem1.h5', 'r+') as file:\n",
    "    # Read the dataset containing the quantity (assuming it's named 'data')\n",
    "    for key in file.keys():\n",
    "        # Check if the key corresponds to a dataset\n",
    "        if isinstance(file[key], h5py.Dataset):\n",
    "            print(f\"Dataset: {key}\")\n",
    "        elif isinstance(file[key], h5py.Group):\n",
    "            print(f\"Group: {key}\")\n",
    "            # Access the datasets or groups within the file \n",
    "    emis = file['emis'][:]\n",
    "    print(emis.shape)\n"
   ]
  },
  {
   "cell_type": "code",
   "execution_count": 18,
   "id": "4c16779b",
   "metadata": {},
   "outputs": [
    {
     "name": "stdout",
     "output_type": "stream",
     "text": [
      "Dataset: Ieta\n",
      "Dataset: Itemp\n",
      "Dataset: absorption_opacity\n",
      "Dataset: bin_bottom\n",
      "Dataset: bin_top\n",
      "Dataset: bin_widths\n",
      "Dataset: emissivities\n",
      "Dataset: eta_Ipoints\n",
      "Dataset: inelastic_phi0\n",
      "Dataset: inelastic_phi1\n",
      "Dataset: neutrino_energies\n",
      "Dataset: nrho\n",
      "Dataset: ntemp\n",
      "Dataset: number_groups\n",
      "Dataset: number_species\n",
      "Dataset: nye\n",
      "Dataset: rho_points\n",
      "Dataset: scattering_opacity\n",
      "Dataset: temp_Ipoints\n",
      "Dataset: temp_points\n",
      "Dataset: timestamp\n",
      "Dataset: ye_points\n",
      "(18, 3, 51, 65, 82)\n",
      "1.1988701689807107e-12\n"
     ]
    }
   ],
   "source": [
    "# Open the HDF5 file in read/write mode\n",
    "with h5py.File('NuLib_rho82_temp65_ye51_ng18_ns3_Itemp65_Ieta61_version1.0_20230913.h5', 'r+') as file:\n",
    "    # Read the dataset containing the quantity (assuming it's named 'data')\n",
    "    for key in file.keys():\n",
    "        # Check if the key corresponds to a dataset\n",
    "        if isinstance(file[key], h5py.Dataset):\n",
    "            print(f\"Dataset: {key}\")\n",
    "        elif isinstance(file[key], h5py.Group):\n",
    "            print(f\"Group: {key}\")\n",
    "            # Access the datasets or groups within the file \n",
    "    absorption_opacity = file['absorption_opacity'][:]\n",
    "    print(absorption_opacity.shape)\n",
    "    \n",
    "        # Rearrange the dimensions from (x, y, z) to (z, x, y)\n",
    "    data_rearranged = np.transpose(absorption_opacity, (2, 3, 4, 1, 0))\n",
    "    \n",
    "    print(data_rearranged[1,1,1,0,1])\n",
    "    \n",
    "#     # Update the dataset with the rearranged data\n",
    "#     del hdf_file['data']  # Delete the existing dataset\n",
    "#     hdf_file.create_dataset('data', data=data_rearranged)"
   ]
  },
  {
   "cell_type": "code",
   "execution_count": null,
   "id": "822ab450",
   "metadata": {},
   "outputs": [],
   "source": []
  }
 ],
 "metadata": {
  "kernelspec": {
   "display_name": "Python 3 (ipykernel)",
   "language": "python",
   "name": "python3"
  },
  "language_info": {
   "codemirror_mode": {
    "name": "ipython",
    "version": 3
   },
   "file_extension": ".py",
   "mimetype": "text/x-python",
   "name": "python",
   "nbconvert_exporter": "python",
   "pygments_lexer": "ipython3",
   "version": "3.11.5"
  }
 },
 "nbformat": 4,
 "nbformat_minor": 5
}
