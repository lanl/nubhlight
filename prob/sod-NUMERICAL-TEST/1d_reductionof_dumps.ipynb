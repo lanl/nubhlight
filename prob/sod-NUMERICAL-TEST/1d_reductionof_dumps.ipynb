{
 "cells": [
  {
   "cell_type": "code",
   "execution_count": 71,
   "id": "7c8bbf36",
   "metadata": {},
   "outputs": [
    {
     "name": "stdout",
     "output_type": "stream",
     "text": [
      "Dataset: b1\n",
      "Dataset: b2\n",
      "Dataset: b3\n",
      "Dataset: rho\n",
      "Dataset: u1\n",
      "Dataset: u2\n",
      "Dataset: u3\n",
      "Dataset: uu\n",
      "Dataset: ye\n",
      "(64, 64, 64)\n"
     ]
    }
   ],
   "source": [
    "import h5py\n",
    "import numpy as np\n",
    "\n",
    "# Open the HDF5 file in read/write mode\n",
    "with h5py.File('../sod-NUMERICAL-TEST-v2/dumps/prim.h5', 'r+') as file:\n",
    "    # Read the dataset containing the quantity (assuming it's named 'data')\n",
    "    for key in file.keys():\n",
    "        # Check if the key corresponds to a dataset\n",
    "        if isinstance(file[key], h5py.Dataset):\n",
    "            print(f\"Dataset: {key}\")\n",
    "        elif isinstance(file[key], h5py.Group):\n",
    "            print(f\"Group: {key}\")\n",
    "            # Access the datasets or groups within the file \n",
    "    var = file['rho'][:]\n",
    "    print(var.shape)\n"
   ]
  },
  {
   "cell_type": "code",
   "execution_count": 75,
   "id": "1273f764",
   "metadata": {},
   "outputs": [
    {
     "name": "stdout",
     "output_type": "stream",
     "text": [
      "[1.00000012e-05 1.00000009e-05 1.00000009e-05 1.00000012e-05\n",
      " 1.00000015e-05 1.00000017e-05 1.00000018e-05 1.00000019e-05\n",
      " 1.00000019e-05 1.00000020e-05 1.00000020e-05 1.00000021e-05\n",
      " 1.00000021e-05 1.00000022e-05 1.00000022e-05 1.00000023e-05\n",
      " 1.00000023e-05 1.00000024e-05 1.00000024e-05 1.00000025e-05\n",
      " 1.00000025e-05 1.00000026e-05 1.00000026e-05 1.00000026e-05\n",
      " 1.00000027e-05 1.00000027e-05 1.00000027e-05 1.00000028e-05\n",
      " 1.00000028e-05 1.00000028e-05 1.00000028e-05 1.00000028e-05\n",
      " 1.00000028e-05 1.00000028e-05 1.00000028e-05 1.00000028e-05\n",
      " 1.00000028e-05 1.00000028e-05 1.00000028e-05 1.00000028e-05\n",
      " 1.00000028e-05 1.00000027e-05 1.00000027e-05 1.00000027e-05\n",
      " 1.00000026e-05 1.00000026e-05 1.00000026e-05 1.00000025e-05\n",
      " 1.00000025e-05 1.00000024e-05 1.00000024e-05 1.00000023e-05\n",
      " 1.00000023e-05 1.00000022e-05 1.00000022e-05 1.00000021e-05\n",
      " 1.00000021e-05 1.00000020e-05 1.00000020e-05 1.00000019e-05\n",
      " 1.00000019e-05 1.00000018e-05 1.00000017e-05 1.00000014e-05]\n"
     ]
    }
   ],
   "source": [
    "print(var[:,0,0])"
   ]
  },
  {
   "cell_type": "code",
   "execution_count": 72,
   "id": "822ab450",
   "metadata": {},
   "outputs": [
    {
     "name": "stdout",
     "output_type": "stream",
     "text": [
      "Dataset: Gamma\n",
      "Dataset: Lambda_h2cart_con\n",
      "Dataset: Lambda_h2cart_cov\n",
      "Dataset: XFcart\n",
      "Dataset: XFharm\n",
      "Dataset: Xcart\n",
      "Dataset: Xharm\n",
      "Dataset: alpha\n",
      "Dataset: gcon\n",
      "Dataset: gcov\n",
      "Dataset: gdet\n",
      "(64, 64, 64, 4)\n"
     ]
    }
   ],
   "source": [
    "# Open the HDF5 file in read/write mode\n",
    "with h5py.File('../sod-NUMERICAL-TEST-v2/dumps/grid.h5', 'r+') as file:\n",
    "    # Read the dataset containing the quantity (assuming it's named 'data')\n",
    "    for key in file.keys():\n",
    "        # Check if the key corresponds to a dataset\n",
    "        if isinstance(file[key], h5py.Dataset):\n",
    "            print(f\"Dataset: {key}\")\n",
    "        elif isinstance(file[key], h5py.Group):\n",
    "            print(f\"Group: {key}\")\n",
    "            # Access the datasets or groups within the file \n",
    "    Xcart = file['Xcart'][:]\n",
    "    print(Xcart.shape)"
   ]
  },
  {
   "cell_type": "code",
   "execution_count": 73,
   "id": "8d3117dc",
   "metadata": {},
   "outputs": [
    {
     "name": "stdout",
     "output_type": "stream",
     "text": [
      "[-7.875 -7.625 -7.375 -7.125 -6.875 -6.625 -6.375 -6.125 -5.875 -5.625\n",
      " -5.375 -5.125 -4.875 -4.625 -4.375 -4.125 -3.875 -3.625 -3.375 -3.125\n",
      " -2.875 -2.625 -2.375 -2.125 -1.875 -1.625 -1.375 -1.125 -0.875 -0.625\n",
      " -0.375 -0.125  0.125  0.375  0.625  0.875  1.125  1.375  1.625  1.875\n",
      "  2.125  2.375  2.625  2.875  3.125  3.375  3.625  3.875  4.125  4.375\n",
      "  4.625  4.875  5.125  5.375  5.625  5.875  6.125  6.375  6.625  6.875\n",
      "  7.125  7.375  7.625  7.875]\n"
     ]
    }
   ],
   "source": [
    "print(Xcart[:,0,0,1])"
   ]
  },
  {
   "cell_type": "code",
   "execution_count": 18,
   "id": "c798e80f",
   "metadata": {},
   "outputs": [],
   "source": [
    "import matplotlib.pyplot as plt"
   ]
  },
  {
   "cell_type": "code",
   "execution_count": 82,
   "id": "7f58ad46",
   "metadata": {},
   "outputs": [
    {
     "data": {
      "text/plain": [
       "[<matplotlib.lines.Line2D at 0x138949a90>]"
      ]
     },
     "execution_count": 82,
     "metadata": {},
     "output_type": "execute_result"
    },
    {
     "data": {
      "image/png": "[encoded data removed]",
      "text/plain": [
       "<Figure size 640x480 with 1 Axes>"
      ]
     },
     "metadata": {},
     "output_type": "display_data"
    }
   ],
   "source": [
    "plt.plot(Xcart[:,32,32,1], var[:,32,32]/1.85e-08)\n",
    "#plt.xlim(-8,8)"
   ]
  },
  {
   "cell_type": "code",
   "execution_count": 44,
   "id": "4e4a8742",
   "metadata": {},
   "outputs": [],
   "source": [
    "x_data = Xcart[:, 0, 0, 1]\n",
    "velx_data = velx[:, 0, 0]\n",
    "\n",
    "data_to_save = np.column_stack((x_data, velx_data))\n",
    "\n",
    "# Save the data into a text file\n",
    "np.savetxt('output_data.txt', data_to_save, fmt='%.6e', header='Xcart velx', comments='')"
   ]
  },
  {
   "cell_type": "code",
   "execution_count": 3,
   "id": "091dafc9",
   "metadata": {},
   "outputs": [
    {
     "name": "stdout",
     "output_type": "stream",
     "text": [
      "/Users/persistence/Numerical_Relativity/nubhlight/prob/sod-NUMERICAL-TEST\n"
     ]
    }
   ],
   "source": [
    "import os\n",
    "print(os.getcwd())"
   ]
  },
  {
   "cell_type": "code",
   "execution_count": 26,
   "id": "1ca61ac3",
   "metadata": {},
   "outputs": [
    {
     "name": "stdout",
     "output_type": "stream",
     "text": [
      "Dataset: betax\n",
      "Dataset: betay\n",
      "Dataset: betaz\n",
      "Dataset: lapse\n",
      "Dataset: rho\n",
      "Dataset: u1\n",
      "Dataset: u2\n",
      "Dataset: u3\n",
      "Dataset: velx\n",
      "Dataset: vely\n",
      "Dataset: velz\n",
      "Dataset: xp\n",
      "Dataset: ye\n",
      "Dataset: yp\n",
      "Dataset: zp\n"
     ]
    }
   ],
   "source": [
    "# Open the HDF5 file in read/write mode\n",
    "with h5py.File('../../../carpet3dprofile/checkpoint-tov-cowling/extprim.h5', 'r+') as file:\n",
    "    # Read the dataset containing the quantity (assuming it's named 'data')\n",
    "    for key in file.keys():\n",
    "        # Check if the key corresponds to a dataset\n",
    "        if isinstance(file[key], h5py.Dataset):\n",
    "            print(f\"Dataset: {key}\")\n",
    "        elif isinstance(file[key], h5py.Group):\n",
    "            print(f\"Group: {key}\")\n",
    "    rho = file['rho'][:]"
   ]
  },
  {
   "cell_type": "code",
   "execution_count": 28,
   "id": "b3ed1c35",
   "metadata": {},
   "outputs": [
    {
     "name": "stdout",
     "output_type": "stream",
     "text": [
      "(32768,)\n"
     ]
    }
   ],
   "source": [
    "print(rho.shape)"
   ]
  },
  {
   "cell_type": "code",
   "execution_count": null,
   "id": "9e32da2b",
   "metadata": {},
   "outputs": [],
   "source": []
  }
 ],
 "metadata": {
  "kernelspec": {
   "display_name": "Python 3 (ipykernel)",
   "language": "python",
   "name": "python3"
  },
  "language_info": {
   "codemirror_mode": {
    "name": "ipython",
    "version": 3
   },
   "file_extension": ".py",
   "mimetype": "text/x-python",
   "name": "python",
   "nbconvert_exporter": "python",
   "pygments_lexer": "ipython3",
   "version": "3.11.5"
  }
 },
 "nbformat": 4,
 "nbformat_minor": 5
}
