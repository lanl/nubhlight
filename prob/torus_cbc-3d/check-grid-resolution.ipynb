{
 "cells": [
  {
   "cell_type": "code",
   "execution_count": 1,
   "id": "c9a76344",
   "metadata": {},
   "outputs": [],
   "source": [
    "import h5py\n",
    "import matplotlib.pyplot as plt\n",
    "import numpy as np"
   ]
  },
  {
   "cell_type": "code",
   "execution_count": 33,
   "id": "a04cb0b2",
   "metadata": {
    "scrolled": true
   },
   "outputs": [
    {
     "name": "stdout",
     "output_type": "stream",
     "text": [
      "Dataset: Gamma\n",
      "Dataset: Lambda_bl2cart_con\n",
      "Dataset: Lambda_bl2cart_cov\n",
      "Dataset: Lambda_h2bl_con\n",
      "Dataset: Lambda_h2bl_cov\n",
      "Dataset: Lambda_h2cart_con\n",
      "Dataset: Lambda_h2cart_cov\n",
      "Dataset: XFcart\n",
      "Dataset: XFharm\n",
      "Dataset: Xbl\n",
      "Dataset: Xcart\n",
      "Dataset: Xharm\n",
      "Dataset: alpha\n",
      "Dataset: gcon\n",
      "Dataset: gcov\n",
      "Dataset: gdet\n",
      "(192, 128, 1, 4)\n"
     ]
    }
   ],
   "source": [
    "# Open the HDF5 file\n",
    "with h5py.File('./dumps/grid.h5', 'r') as file:\n",
    "    for key in file.keys():\n",
    "        # Check if the key corresponds to a dataset\n",
    "        if isinstance(file[key], h5py.Dataset):\n",
    "            print(f\"Dataset: {key}\")\n",
    "        elif isinstance(file[key], h5py.Group):\n",
    "            print(f\"Group: {key}\")\n",
    "# Access the datasets or groups within the file    \n",
    "    data_array = file['Xharm'][:]\n",
    "    \n",
    "    print(data_array.shape)"
   ]
  },
  {
   "cell_type": "code",
   "execution_count": 36,
   "id": "27bd5a87",
   "metadata": {},
   "outputs": [
    {
     "name": "stdout",
     "output_type": "stream",
     "text": [
      "-0.034518775601803775\n",
      "-0.034518775601803775\n"
     ]
    }
   ],
   "source": [
    "print(data_array[0,100,0,1]-data_array[1,100,0,1])\n",
    "print(data_array[1,100,0,1]-data_array[2,100,0,1])"
   ]
  },
  {
   "cell_type": "code",
   "execution_count": 35,
   "id": "1c5a86df",
   "metadata": {},
   "outputs": [
    {
     "name": "stdout",
     "output_type": "stream",
     "text": [
      "-0.0078125\n",
      "-0.0078125\n"
     ]
    }
   ],
   "source": [
    "print(data_array[100,0,0,2]-data_array[100,1,0,2])\n",
    "print(data_array[100,1,0,2]-data_array[100,2,0,2])"
   ]
  }
 ],
 "metadata": {
  "kernelspec": {
   "display_name": "Python 3 (ipykernel)",
   "language": "python",
   "name": "python3"
  },
  "language_info": {
   "codemirror_mode": {
    "name": "ipython",
    "version": 3
   },
   "file_extension": ".py",
   "mimetype": "text/x-python",
   "name": "python",
   "nbconvert_exporter": "python",
   "pygments_lexer": "ipython3",
   "version": "3.11.5"
  }
 },
 "nbformat": 4,
 "nbformat_minor": 5
}
